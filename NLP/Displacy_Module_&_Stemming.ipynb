{
  "nbformat": 4,
  "nbformat_minor": 0,
  "metadata": {
    "colab": {
      "provenance": []
    },
    "kernelspec": {
      "name": "python3",
      "display_name": "Python 3"
    },
    "language_info": {
      "name": "python"
    }
  },
  "cells": [
    {
      "cell_type": "markdown",
      "source": [
        "**Displacy Module**"
      ],
      "metadata": {
        "id": "QxUjuzq4SKPG"
      }
    },
    {
      "cell_type": "code",
      "execution_count": null,
      "metadata": {
        "id": "owuMTh5QJspQ"
      },
      "outputs": [],
      "source": [
        "# Install the spaCy library, a powerful package for natural language processing.\n",
        "!pip install spacy\n",
        "\n",
        "# Download the English small core model, which includes data and algorithms necessary for basic NLP tasks.\n",
        "!python -m spacy download en_core_web_sm\n",
        "\n",
        "import spacy\n",
        "\n",
        "# Import the 'displacy' module from spaCy, used for visualizing entities, dependencies, etc.\n",
        "from spacy import displacy"
      ]
    },
    {
      "cell_type": "code",
      "source": [
        "# Summary:\n",
        "# - Model (e.g., en_core_web_sm): A pre-trained dataset with algorithms for specific language processing tasks.\n",
        "# - Module (e.g., displacy from spaCy): A file with Python definitions for specific functionalities, such as visualizing NLP results.\n",
        "# - Library (e.g., spaCy): A collection of modules designed to provide tools for a broad set of tasks in a particular domain.\n"
      ],
      "metadata": {
        "id": "F203EPgxK1Dd"
      },
      "execution_count": null,
      "outputs": []
    },
    {
      "cell_type": "code",
      "source": [
        "nlp = spacy.load('en_core_web_sm')"
      ],
      "metadata": {
        "id": "Su8Hhi__Lv5Y"
      },
      "execution_count": 17,
      "outputs": []
    },
    {
      "cell_type": "code",
      "source": [
        "doc = nlp(\"Ocer the last quarter Apple sold nearly 20 thousad iPods for a profit of $6 million.\")"
      ],
      "metadata": {
        "id": "Cnd6tIk0LPEJ"
      },
      "execution_count": 35,
      "outputs": []
    },
    {
      "cell_type": "code",
      "source": [
        "displacy.render(doc, style='dep',  options={'distance':151})\n",
        "\n",
        "# Render the dependency parse of the document\n",
        "# 'style' is set to 'dep' for a dependency tree visualization\n",
        "# 'options' controls visual aspects like distance between words"
      ],
      "metadata": {
        "colab": {
          "base_uri": "https://localhost:8080/",
          "height": 481
        },
        "id": "KJ90Tz-SMmFH",
        "outputId": "c0659bd2-104d-464e-fbbf-888bdefa143b"
      },
      "execution_count": 36,
      "outputs": [
        {
          "output_type": "display_data",
          "data": {
            "text/plain": [
              "<IPython.core.display.HTML object>"
            ],
            "text/html": [
              "<span class=\"tex2jax_ignore\"><svg xmlns=\"http://www.w3.org/2000/svg\" xmlns:xlink=\"http://www.w3.org/1999/xlink\" xml:lang=\"en\" id=\"0a3290006c784ff4a9182ca50f39c174-0\" class=\"displacy\" width=\"2617\" height=\"439.0\" direction=\"ltr\" style=\"max-width: none; height: 439.0px; color: #000000; background: #ffffff; font-family: Arial; direction: ltr\">\n",
              "<text class=\"displacy-token\" fill=\"currentColor\" text-anchor=\"middle\" y=\"349.0\">\n",
              "    <tspan class=\"displacy-word\" fill=\"currentColor\" x=\"50\">Ocer</tspan>\n",
              "    <tspan class=\"displacy-tag\" dy=\"2em\" fill=\"currentColor\" x=\"50\">PROPN</tspan>\n",
              "</text>\n",
              "\n",
              "<text class=\"displacy-token\" fill=\"currentColor\" text-anchor=\"middle\" y=\"349.0\">\n",
              "    <tspan class=\"displacy-word\" fill=\"currentColor\" x=\"201\">the</tspan>\n",
              "    <tspan class=\"displacy-tag\" dy=\"2em\" fill=\"currentColor\" x=\"201\">DET</tspan>\n",
              "</text>\n",
              "\n",
              "<text class=\"displacy-token\" fill=\"currentColor\" text-anchor=\"middle\" y=\"349.0\">\n",
              "    <tspan class=\"displacy-word\" fill=\"currentColor\" x=\"352\">last</tspan>\n",
              "    <tspan class=\"displacy-tag\" dy=\"2em\" fill=\"currentColor\" x=\"352\">ADJ</tspan>\n",
              "</text>\n",
              "\n",
              "<text class=\"displacy-token\" fill=\"currentColor\" text-anchor=\"middle\" y=\"349.0\">\n",
              "    <tspan class=\"displacy-word\" fill=\"currentColor\" x=\"503\">quarter</tspan>\n",
              "    <tspan class=\"displacy-tag\" dy=\"2em\" fill=\"currentColor\" x=\"503\">NOUN</tspan>\n",
              "</text>\n",
              "\n",
              "<text class=\"displacy-token\" fill=\"currentColor\" text-anchor=\"middle\" y=\"349.0\">\n",
              "    <tspan class=\"displacy-word\" fill=\"currentColor\" x=\"654\">Apple</tspan>\n",
              "    <tspan class=\"displacy-tag\" dy=\"2em\" fill=\"currentColor\" x=\"654\">PROPN</tspan>\n",
              "</text>\n",
              "\n",
              "<text class=\"displacy-token\" fill=\"currentColor\" text-anchor=\"middle\" y=\"349.0\">\n",
              "    <tspan class=\"displacy-word\" fill=\"currentColor\" x=\"805\">sold</tspan>\n",
              "    <tspan class=\"displacy-tag\" dy=\"2em\" fill=\"currentColor\" x=\"805\">VERB</tspan>\n",
              "</text>\n",
              "\n",
              "<text class=\"displacy-token\" fill=\"currentColor\" text-anchor=\"middle\" y=\"349.0\">\n",
              "    <tspan class=\"displacy-word\" fill=\"currentColor\" x=\"956\">nearly</tspan>\n",
              "    <tspan class=\"displacy-tag\" dy=\"2em\" fill=\"currentColor\" x=\"956\">ADV</tspan>\n",
              "</text>\n",
              "\n",
              "<text class=\"displacy-token\" fill=\"currentColor\" text-anchor=\"middle\" y=\"349.0\">\n",
              "    <tspan class=\"displacy-word\" fill=\"currentColor\" x=\"1107\">20</tspan>\n",
              "    <tspan class=\"displacy-tag\" dy=\"2em\" fill=\"currentColor\" x=\"1107\">NUM</tspan>\n",
              "</text>\n",
              "\n",
              "<text class=\"displacy-token\" fill=\"currentColor\" text-anchor=\"middle\" y=\"349.0\">\n",
              "    <tspan class=\"displacy-word\" fill=\"currentColor\" x=\"1258\">thousad</tspan>\n",
              "    <tspan class=\"displacy-tag\" dy=\"2em\" fill=\"currentColor\" x=\"1258\">ADJ</tspan>\n",
              "</text>\n",
              "\n",
              "<text class=\"displacy-token\" fill=\"currentColor\" text-anchor=\"middle\" y=\"349.0\">\n",
              "    <tspan class=\"displacy-word\" fill=\"currentColor\" x=\"1409\">iPods</tspan>\n",
              "    <tspan class=\"displacy-tag\" dy=\"2em\" fill=\"currentColor\" x=\"1409\">PROPN</tspan>\n",
              "</text>\n",
              "\n",
              "<text class=\"displacy-token\" fill=\"currentColor\" text-anchor=\"middle\" y=\"349.0\">\n",
              "    <tspan class=\"displacy-word\" fill=\"currentColor\" x=\"1560\">for</tspan>\n",
              "    <tspan class=\"displacy-tag\" dy=\"2em\" fill=\"currentColor\" x=\"1560\">ADP</tspan>\n",
              "</text>\n",
              "\n",
              "<text class=\"displacy-token\" fill=\"currentColor\" text-anchor=\"middle\" y=\"349.0\">\n",
              "    <tspan class=\"displacy-word\" fill=\"currentColor\" x=\"1711\">a</tspan>\n",
              "    <tspan class=\"displacy-tag\" dy=\"2em\" fill=\"currentColor\" x=\"1711\">DET</tspan>\n",
              "</text>\n",
              "\n",
              "<text class=\"displacy-token\" fill=\"currentColor\" text-anchor=\"middle\" y=\"349.0\">\n",
              "    <tspan class=\"displacy-word\" fill=\"currentColor\" x=\"1862\">profit</tspan>\n",
              "    <tspan class=\"displacy-tag\" dy=\"2em\" fill=\"currentColor\" x=\"1862\">NOUN</tspan>\n",
              "</text>\n",
              "\n",
              "<text class=\"displacy-token\" fill=\"currentColor\" text-anchor=\"middle\" y=\"349.0\">\n",
              "    <tspan class=\"displacy-word\" fill=\"currentColor\" x=\"2013\">of</tspan>\n",
              "    <tspan class=\"displacy-tag\" dy=\"2em\" fill=\"currentColor\" x=\"2013\">ADP</tspan>\n",
              "</text>\n",
              "\n",
              "<text class=\"displacy-token\" fill=\"currentColor\" text-anchor=\"middle\" y=\"349.0\">\n",
              "    <tspan class=\"displacy-word\" fill=\"currentColor\" x=\"2164\">$</tspan>\n",
              "    <tspan class=\"displacy-tag\" dy=\"2em\" fill=\"currentColor\" x=\"2164\">SYM</tspan>\n",
              "</text>\n",
              "\n",
              "<text class=\"displacy-token\" fill=\"currentColor\" text-anchor=\"middle\" y=\"349.0\">\n",
              "    <tspan class=\"displacy-word\" fill=\"currentColor\" x=\"2315\">6</tspan>\n",
              "    <tspan class=\"displacy-tag\" dy=\"2em\" fill=\"currentColor\" x=\"2315\">NUM</tspan>\n",
              "</text>\n",
              "\n",
              "<text class=\"displacy-token\" fill=\"currentColor\" text-anchor=\"middle\" y=\"349.0\">\n",
              "    <tspan class=\"displacy-word\" fill=\"currentColor\" x=\"2466\">million.</tspan>\n",
              "    <tspan class=\"displacy-tag\" dy=\"2em\" fill=\"currentColor\" x=\"2466\">NUM</tspan>\n",
              "</text>\n",
              "\n",
              "<g class=\"displacy-arrow\">\n",
              "    <path class=\"displacy-arc\" id=\"arrow-0a3290006c784ff4a9182ca50f39c174-0-0\" stroke-width=\"2px\" d=\"M70,304.0 C70,2.0 805.0,2.0 805.0,304.0\" fill=\"none\" stroke=\"currentColor\"/>\n",
              "    <text dy=\"1.25em\" style=\"font-size: 0.8em; letter-spacing: 1px\">\n",
              "        <textPath xlink:href=\"#arrow-0a3290006c784ff4a9182ca50f39c174-0-0\" class=\"displacy-label\" startOffset=\"50%\" side=\"left\" fill=\"currentColor\" text-anchor=\"middle\">nsubj</textPath>\n",
              "    </text>\n",
              "    <path class=\"displacy-arrowhead\" d=\"M70,306.0 L62,294.0 78,294.0\" fill=\"currentColor\"/>\n",
              "</g>\n",
              "\n",
              "<g class=\"displacy-arrow\">\n",
              "    <path class=\"displacy-arc\" id=\"arrow-0a3290006c784ff4a9182ca50f39c174-0-1\" stroke-width=\"2px\" d=\"M221,304.0 C221,153.0 493.0,153.0 493.0,304.0\" fill=\"none\" stroke=\"currentColor\"/>\n",
              "    <text dy=\"1.25em\" style=\"font-size: 0.8em; letter-spacing: 1px\">\n",
              "        <textPath xlink:href=\"#arrow-0a3290006c784ff4a9182ca50f39c174-0-1\" class=\"displacy-label\" startOffset=\"50%\" side=\"left\" fill=\"currentColor\" text-anchor=\"middle\">det</textPath>\n",
              "    </text>\n",
              "    <path class=\"displacy-arrowhead\" d=\"M221,306.0 L213,294.0 229,294.0\" fill=\"currentColor\"/>\n",
              "</g>\n",
              "\n",
              "<g class=\"displacy-arrow\">\n",
              "    <path class=\"displacy-arc\" id=\"arrow-0a3290006c784ff4a9182ca50f39c174-0-2\" stroke-width=\"2px\" d=\"M372,304.0 C372,228.5 488.0,228.5 488.0,304.0\" fill=\"none\" stroke=\"currentColor\"/>\n",
              "    <text dy=\"1.25em\" style=\"font-size: 0.8em; letter-spacing: 1px\">\n",
              "        <textPath xlink:href=\"#arrow-0a3290006c784ff4a9182ca50f39c174-0-2\" class=\"displacy-label\" startOffset=\"50%\" side=\"left\" fill=\"currentColor\" text-anchor=\"middle\">amod</textPath>\n",
              "    </text>\n",
              "    <path class=\"displacy-arrowhead\" d=\"M372,306.0 L364,294.0 380,294.0\" fill=\"currentColor\"/>\n",
              "</g>\n",
              "\n",
              "<g class=\"displacy-arrow\">\n",
              "    <path class=\"displacy-arc\" id=\"arrow-0a3290006c784ff4a9182ca50f39c174-0-3\" stroke-width=\"2px\" d=\"M70,304.0 C70,77.5 498.0,77.5 498.0,304.0\" fill=\"none\" stroke=\"currentColor\"/>\n",
              "    <text dy=\"1.25em\" style=\"font-size: 0.8em; letter-spacing: 1px\">\n",
              "        <textPath xlink:href=\"#arrow-0a3290006c784ff4a9182ca50f39c174-0-3\" class=\"displacy-label\" startOffset=\"50%\" side=\"left\" fill=\"currentColor\" text-anchor=\"middle\">appos</textPath>\n",
              "    </text>\n",
              "    <path class=\"displacy-arrowhead\" d=\"M498.0,306.0 L506.0,294.0 490.0,294.0\" fill=\"currentColor\"/>\n",
              "</g>\n",
              "\n",
              "<g class=\"displacy-arrow\">\n",
              "    <path class=\"displacy-arc\" id=\"arrow-0a3290006c784ff4a9182ca50f39c174-0-4\" stroke-width=\"2px\" d=\"M674,304.0 C674,228.5 790.0,228.5 790.0,304.0\" fill=\"none\" stroke=\"currentColor\"/>\n",
              "    <text dy=\"1.25em\" style=\"font-size: 0.8em; letter-spacing: 1px\">\n",
              "        <textPath xlink:href=\"#arrow-0a3290006c784ff4a9182ca50f39c174-0-4\" class=\"displacy-label\" startOffset=\"50%\" side=\"left\" fill=\"currentColor\" text-anchor=\"middle\">nsubj</textPath>\n",
              "    </text>\n",
              "    <path class=\"displacy-arrowhead\" d=\"M674,306.0 L666,294.0 682,294.0\" fill=\"currentColor\"/>\n",
              "</g>\n",
              "\n",
              "<g class=\"displacy-arrow\">\n",
              "    <path class=\"displacy-arc\" id=\"arrow-0a3290006c784ff4a9182ca50f39c174-0-5\" stroke-width=\"2px\" d=\"M976,304.0 C976,228.5 1092.0,228.5 1092.0,304.0\" fill=\"none\" stroke=\"currentColor\"/>\n",
              "    <text dy=\"1.25em\" style=\"font-size: 0.8em; letter-spacing: 1px\">\n",
              "        <textPath xlink:href=\"#arrow-0a3290006c784ff4a9182ca50f39c174-0-5\" class=\"displacy-label\" startOffset=\"50%\" side=\"left\" fill=\"currentColor\" text-anchor=\"middle\">advmod</textPath>\n",
              "    </text>\n",
              "    <path class=\"displacy-arrowhead\" d=\"M976,306.0 L968,294.0 984,294.0\" fill=\"currentColor\"/>\n",
              "</g>\n",
              "\n",
              "<g class=\"displacy-arrow\">\n",
              "    <path class=\"displacy-arc\" id=\"arrow-0a3290006c784ff4a9182ca50f39c174-0-6\" stroke-width=\"2px\" d=\"M1127,304.0 C1127,153.0 1399.0,153.0 1399.0,304.0\" fill=\"none\" stroke=\"currentColor\"/>\n",
              "    <text dy=\"1.25em\" style=\"font-size: 0.8em; letter-spacing: 1px\">\n",
              "        <textPath xlink:href=\"#arrow-0a3290006c784ff4a9182ca50f39c174-0-6\" class=\"displacy-label\" startOffset=\"50%\" side=\"left\" fill=\"currentColor\" text-anchor=\"middle\">nummod</textPath>\n",
              "    </text>\n",
              "    <path class=\"displacy-arrowhead\" d=\"M1127,306.0 L1119,294.0 1135,294.0\" fill=\"currentColor\"/>\n",
              "</g>\n",
              "\n",
              "<g class=\"displacy-arrow\">\n",
              "    <path class=\"displacy-arc\" id=\"arrow-0a3290006c784ff4a9182ca50f39c174-0-7\" stroke-width=\"2px\" d=\"M1278,304.0 C1278,228.5 1394.0,228.5 1394.0,304.0\" fill=\"none\" stroke=\"currentColor\"/>\n",
              "    <text dy=\"1.25em\" style=\"font-size: 0.8em; letter-spacing: 1px\">\n",
              "        <textPath xlink:href=\"#arrow-0a3290006c784ff4a9182ca50f39c174-0-7\" class=\"displacy-label\" startOffset=\"50%\" side=\"left\" fill=\"currentColor\" text-anchor=\"middle\">amod</textPath>\n",
              "    </text>\n",
              "    <path class=\"displacy-arrowhead\" d=\"M1278,306.0 L1270,294.0 1286,294.0\" fill=\"currentColor\"/>\n",
              "</g>\n",
              "\n",
              "<g class=\"displacy-arrow\">\n",
              "    <path class=\"displacy-arc\" id=\"arrow-0a3290006c784ff4a9182ca50f39c174-0-8\" stroke-width=\"2px\" d=\"M825,304.0 C825,77.5 1404.0,77.5 1404.0,304.0\" fill=\"none\" stroke=\"currentColor\"/>\n",
              "    <text dy=\"1.25em\" style=\"font-size: 0.8em; letter-spacing: 1px\">\n",
              "        <textPath xlink:href=\"#arrow-0a3290006c784ff4a9182ca50f39c174-0-8\" class=\"displacy-label\" startOffset=\"50%\" side=\"left\" fill=\"currentColor\" text-anchor=\"middle\">dobj</textPath>\n",
              "    </text>\n",
              "    <path class=\"displacy-arrowhead\" d=\"M1404.0,306.0 L1412.0,294.0 1396.0,294.0\" fill=\"currentColor\"/>\n",
              "</g>\n",
              "\n",
              "<g class=\"displacy-arrow\">\n",
              "    <path class=\"displacy-arc\" id=\"arrow-0a3290006c784ff4a9182ca50f39c174-0-9\" stroke-width=\"2px\" d=\"M825,304.0 C825,2.0 1560.0,2.0 1560.0,304.0\" fill=\"none\" stroke=\"currentColor\"/>\n",
              "    <text dy=\"1.25em\" style=\"font-size: 0.8em; letter-spacing: 1px\">\n",
              "        <textPath xlink:href=\"#arrow-0a3290006c784ff4a9182ca50f39c174-0-9\" class=\"displacy-label\" startOffset=\"50%\" side=\"left\" fill=\"currentColor\" text-anchor=\"middle\">prep</textPath>\n",
              "    </text>\n",
              "    <path class=\"displacy-arrowhead\" d=\"M1560.0,306.0 L1568.0,294.0 1552.0,294.0\" fill=\"currentColor\"/>\n",
              "</g>\n",
              "\n",
              "<g class=\"displacy-arrow\">\n",
              "    <path class=\"displacy-arc\" id=\"arrow-0a3290006c784ff4a9182ca50f39c174-0-10\" stroke-width=\"2px\" d=\"M1731,304.0 C1731,228.5 1847.0,228.5 1847.0,304.0\" fill=\"none\" stroke=\"currentColor\"/>\n",
              "    <text dy=\"1.25em\" style=\"font-size: 0.8em; letter-spacing: 1px\">\n",
              "        <textPath xlink:href=\"#arrow-0a3290006c784ff4a9182ca50f39c174-0-10\" class=\"displacy-label\" startOffset=\"50%\" side=\"left\" fill=\"currentColor\" text-anchor=\"middle\">det</textPath>\n",
              "    </text>\n",
              "    <path class=\"displacy-arrowhead\" d=\"M1731,306.0 L1723,294.0 1739,294.0\" fill=\"currentColor\"/>\n",
              "</g>\n",
              "\n",
              "<g class=\"displacy-arrow\">\n",
              "    <path class=\"displacy-arc\" id=\"arrow-0a3290006c784ff4a9182ca50f39c174-0-11\" stroke-width=\"2px\" d=\"M1580,304.0 C1580,153.0 1852.0,153.0 1852.0,304.0\" fill=\"none\" stroke=\"currentColor\"/>\n",
              "    <text dy=\"1.25em\" style=\"font-size: 0.8em; letter-spacing: 1px\">\n",
              "        <textPath xlink:href=\"#arrow-0a3290006c784ff4a9182ca50f39c174-0-11\" class=\"displacy-label\" startOffset=\"50%\" side=\"left\" fill=\"currentColor\" text-anchor=\"middle\">pobj</textPath>\n",
              "    </text>\n",
              "    <path class=\"displacy-arrowhead\" d=\"M1852.0,306.0 L1860.0,294.0 1844.0,294.0\" fill=\"currentColor\"/>\n",
              "</g>\n",
              "\n",
              "<g class=\"displacy-arrow\">\n",
              "    <path class=\"displacy-arc\" id=\"arrow-0a3290006c784ff4a9182ca50f39c174-0-12\" stroke-width=\"2px\" d=\"M1882,304.0 C1882,228.5 1998.0,228.5 1998.0,304.0\" fill=\"none\" stroke=\"currentColor\"/>\n",
              "    <text dy=\"1.25em\" style=\"font-size: 0.8em; letter-spacing: 1px\">\n",
              "        <textPath xlink:href=\"#arrow-0a3290006c784ff4a9182ca50f39c174-0-12\" class=\"displacy-label\" startOffset=\"50%\" side=\"left\" fill=\"currentColor\" text-anchor=\"middle\">prep</textPath>\n",
              "    </text>\n",
              "    <path class=\"displacy-arrowhead\" d=\"M1998.0,306.0 L2006.0,294.0 1990.0,294.0\" fill=\"currentColor\"/>\n",
              "</g>\n",
              "\n",
              "<g class=\"displacy-arrow\">\n",
              "    <path class=\"displacy-arc\" id=\"arrow-0a3290006c784ff4a9182ca50f39c174-0-13\" stroke-width=\"2px\" d=\"M2184,304.0 C2184,153.0 2456.0,153.0 2456.0,304.0\" fill=\"none\" stroke=\"currentColor\"/>\n",
              "    <text dy=\"1.25em\" style=\"font-size: 0.8em; letter-spacing: 1px\">\n",
              "        <textPath xlink:href=\"#arrow-0a3290006c784ff4a9182ca50f39c174-0-13\" class=\"displacy-label\" startOffset=\"50%\" side=\"left\" fill=\"currentColor\" text-anchor=\"middle\">quantmod</textPath>\n",
              "    </text>\n",
              "    <path class=\"displacy-arrowhead\" d=\"M2184,306.0 L2176,294.0 2192,294.0\" fill=\"currentColor\"/>\n",
              "</g>\n",
              "\n",
              "<g class=\"displacy-arrow\">\n",
              "    <path class=\"displacy-arc\" id=\"arrow-0a3290006c784ff4a9182ca50f39c174-0-14\" stroke-width=\"2px\" d=\"M2335,304.0 C2335,228.5 2451.0,228.5 2451.0,304.0\" fill=\"none\" stroke=\"currentColor\"/>\n",
              "    <text dy=\"1.25em\" style=\"font-size: 0.8em; letter-spacing: 1px\">\n",
              "        <textPath xlink:href=\"#arrow-0a3290006c784ff4a9182ca50f39c174-0-14\" class=\"displacy-label\" startOffset=\"50%\" side=\"left\" fill=\"currentColor\" text-anchor=\"middle\">compound</textPath>\n",
              "    </text>\n",
              "    <path class=\"displacy-arrowhead\" d=\"M2335,306.0 L2327,294.0 2343,294.0\" fill=\"currentColor\"/>\n",
              "</g>\n",
              "\n",
              "<g class=\"displacy-arrow\">\n",
              "    <path class=\"displacy-arc\" id=\"arrow-0a3290006c784ff4a9182ca50f39c174-0-15\" stroke-width=\"2px\" d=\"M2033,304.0 C2033,77.5 2461.0,77.5 2461.0,304.0\" fill=\"none\" stroke=\"currentColor\"/>\n",
              "    <text dy=\"1.25em\" style=\"font-size: 0.8em; letter-spacing: 1px\">\n",
              "        <textPath xlink:href=\"#arrow-0a3290006c784ff4a9182ca50f39c174-0-15\" class=\"displacy-label\" startOffset=\"50%\" side=\"left\" fill=\"currentColor\" text-anchor=\"middle\">pobj</textPath>\n",
              "    </text>\n",
              "    <path class=\"displacy-arrowhead\" d=\"M2461.0,306.0 L2469.0,294.0 2453.0,294.0\" fill=\"currentColor\"/>\n",
              "</g>\n",
              "</svg></span>"
            ]
          },
          "metadata": {}
        }
      ]
    },
    {
      "cell_type": "code",
      "source": [
        "displacy.render(doc, style='ent',  options={'distance':151})"
      ],
      "metadata": {
        "colab": {
          "base_uri": "https://localhost:8080/",
          "height": 87
        },
        "id": "waTpWjclPqTi",
        "outputId": "c74b2684-e1e4-4b8e-edd7-ace8925eb000"
      },
      "execution_count": 37,
      "outputs": [
        {
          "output_type": "display_data",
          "data": {
            "text/plain": [
              "<IPython.core.display.HTML object>"
            ],
            "text/html": [
              "<span class=\"tex2jax_ignore\"><div class=\"entities\" style=\"line-height: 2.5; direction: ltr\">Ocer \n",
              "<mark class=\"entity\" style=\"background: #bfe1d9; padding: 0.45em 0.6em; margin: 0 0.25em; line-height: 1; border-radius: 0.35em;\">\n",
              "    the last quarter\n",
              "    <span style=\"font-size: 0.8em; font-weight: bold; line-height: 1; border-radius: 0.35em; vertical-align: middle; margin-left: 0.5rem\">DATE</span>\n",
              "</mark>\n",
              " \n",
              "<mark class=\"entity\" style=\"background: #7aecec; padding: 0.45em 0.6em; margin: 0 0.25em; line-height: 1; border-radius: 0.35em;\">\n",
              "    Apple\n",
              "    <span style=\"font-size: 0.8em; font-weight: bold; line-height: 1; border-radius: 0.35em; vertical-align: middle; margin-left: 0.5rem\">ORG</span>\n",
              "</mark>\n",
              " sold \n",
              "<mark class=\"entity\" style=\"background: #e4e7d2; padding: 0.45em 0.6em; margin: 0 0.25em; line-height: 1; border-radius: 0.35em;\">\n",
              "    nearly 20\n",
              "    <span style=\"font-size: 0.8em; font-weight: bold; line-height: 1; border-radius: 0.35em; vertical-align: middle; margin-left: 0.5rem\">CARDINAL</span>\n",
              "</mark>\n",
              " thousad \n",
              "<mark class=\"entity\" style=\"background: #bfeeb7; padding: 0.45em 0.6em; margin: 0 0.25em; line-height: 1; border-radius: 0.35em;\">\n",
              "    iPods\n",
              "    <span style=\"font-size: 0.8em; font-weight: bold; line-height: 1; border-radius: 0.35em; vertical-align: middle; margin-left: 0.5rem\">PRODUCT</span>\n",
              "</mark>\n",
              " for a profit of \n",
              "<mark class=\"entity\" style=\"background: #e4e7d2; padding: 0.45em 0.6em; margin: 0 0.25em; line-height: 1; border-radius: 0.35em;\">\n",
              "    $6 million\n",
              "    <span style=\"font-size: 0.8em; font-weight: bold; line-height: 1; border-radius: 0.35em; vertical-align: middle; margin-left: 0.5rem\">MONEY</span>\n",
              "</mark>\n",
              ".</div></span>"
            ]
          },
          "metadata": {}
        }
      ]
    },
    {
      "cell_type": "code",
      "source": [
        "doc = nlp(\"this is a sentenc.\")\n",
        "displacy.serve(doc, style='dep')"
      ],
      "metadata": {
        "id": "06v8DenyP745"
      },
      "execution_count": null,
      "outputs": []
    },
    {
      "cell_type": "markdown",
      "source": [
        "**Stemming**"
      ],
      "metadata": {
        "id": "Xh3pLzfpSUeu"
      }
    },
    {
      "cell_type": "code",
      "source": [
        "\n",
        "# Stemming is the process of reducing a word to its root form,\n",
        "# which is the base form of the word without any prefixes or suffixes.\n",
        "# For example, the stem of the word \"running\" is \"run\".\n",
        "\n",
        "# **Porter's Algorithm**\n",
        "# Porter's Algorithm is a widely used algorithm for stemming English words.\n",
        "# It consists of 5 steps:\n",
        "# 1. Remove plurals and -ed or -ing suffixes.\n",
        "# 2. Turn terminal y to i when there is another vowel in the stem.\n",
        "# 3. Map double suffixes to single ones: -ization, -ational, etc.\n",
        "# 4. Deal with -ic-, -full, -ness, etc.\n",
        "# 5. Take off -ant, -ence, etc.\n"
      ],
      "metadata": {
        "id": "38ld7VNWSXgo"
      },
      "execution_count": null,
      "outputs": []
    },
    {
      "cell_type": "code",
      "source": [
        "import nltk"
      ],
      "metadata": {
        "id": "A5v7QnN4TRfb"
      },
      "execution_count": 39,
      "outputs": []
    },
    {
      "cell_type": "code",
      "source": [
        "from nltk.stem.porter import PorterStemmer"
      ],
      "metadata": {
        "id": "LheVWUK5Tst0"
      },
      "execution_count": 40,
      "outputs": []
    },
    {
      "cell_type": "code",
      "source": [
        "p_stemmer = PorterStemmer()"
      ],
      "metadata": {
        "id": "Z_IYiJedTtpO"
      },
      "execution_count": 41,
      "outputs": []
    },
    {
      "cell_type": "code",
      "source": [
        "words =['run', 'runner', 'ran', 'runs', 'easily', 'quickly']"
      ],
      "metadata": {
        "id": "joKuZrXxUKYy"
      },
      "execution_count": 45,
      "outputs": []
    },
    {
      "cell_type": "code",
      "source": [
        "for word in words:\n",
        "  print(word + '--->' + p_stemmer.stem(word))"
      ],
      "metadata": {
        "colab": {
          "base_uri": "https://localhost:8080/"
        },
        "id": "6PY2Wm8gUTKe",
        "outputId": "ad8e6afd-ff55-4ceb-8b25-77a01bb33094"
      },
      "execution_count": 46,
      "outputs": [
        {
          "output_type": "stream",
          "name": "stdout",
          "text": [
            "run--->run\n",
            "runner--->runner\n",
            "ran--->ran\n",
            "runs--->run\n",
            "easily--->easili\n",
            "quickly--->quickli\n"
          ]
        }
      ]
    },
    {
      "cell_type": "code",
      "source": [
        "\n",
        "# **Snowball Stemmer**\n",
        "# The Snowball Stemmer, also known as the Porter2 stemming algorithm,\n",
        "# is an improvement over the original Porter Stemmer.\n",
        "# It provides better accuracy and supports stemming for multiple languages.\n",
        "# Generally, the Snowball Stemmer is considered to be more effective than the Porter Stemmer.\n"
      ],
      "metadata": {
        "id": "NOVAAVUCUgby"
      },
      "execution_count": null,
      "outputs": []
    },
    {
      "cell_type": "code",
      "source": [
        "from nltk.stem.snowball import SnowballStemmer"
      ],
      "metadata": {
        "id": "acr-RjRqUzYC"
      },
      "execution_count": 47,
      "outputs": []
    },
    {
      "cell_type": "code",
      "source": [
        "s_stemmer = SnowballStemmer(language='english')"
      ],
      "metadata": {
        "id": "64Sb4H89U60P"
      },
      "execution_count": 49,
      "outputs": []
    },
    {
      "cell_type": "code",
      "source": [
        "for word in words:\n",
        "  print(f'{word} ---> {s_stemmer.stem(word)}')"
      ],
      "metadata": {
        "colab": {
          "base_uri": "https://localhost:8080/"
        },
        "id": "6RT7g9OKVCtC",
        "outputId": "e5b1d5c9-4d72-4a77-afea-131959a6f066"
      },
      "execution_count": 51,
      "outputs": [
        {
          "output_type": "stream",
          "name": "stdout",
          "text": [
            "run ---> run\n",
            "runner ---> runner\n",
            "ran ---> ran\n",
            "runs ---> run\n",
            "easily ---> easili\n",
            "quickly ---> quick\n"
          ]
        }
      ]
    },
    {
      "cell_type": "code",
      "source": [
        "words = ['generous', 'generation', 'generously', 'generate']"
      ],
      "metadata": {
        "id": "Z_NooyW-VyJ3"
      },
      "execution_count": 52,
      "outputs": []
    },
    {
      "cell_type": "code",
      "source": [
        "for word in words:\n",
        "  print(f'{word} ---> {p_stemmer.stem(word)}')"
      ],
      "metadata": {
        "colab": {
          "base_uri": "https://localhost:8080/"
        },
        "id": "p4wyyT0mV_Bl",
        "outputId": "48574bef-5915-4d39-a9bd-46531e4907bd"
      },
      "execution_count": 54,
      "outputs": [
        {
          "output_type": "stream",
          "name": "stdout",
          "text": [
            "generous ---> gener\n",
            "generation ---> gener\n",
            "generously ---> gener\n",
            "generate ---> gener\n"
          ]
        }
      ]
    },
    {
      "cell_type": "code",
      "source": [
        "for word in words:\n",
        "  print(f'{word} ---> {s_stemmer.stem(word)}')"
      ],
      "metadata": {
        "colab": {
          "base_uri": "https://localhost:8080/"
        },
        "id": "6Q9GBmB6V5qe",
        "outputId": "c20a2aaf-11f2-4a12-c629-9334f71816a8"
      },
      "execution_count": 53,
      "outputs": [
        {
          "output_type": "stream",
          "name": "stdout",
          "text": [
            "generous ---> generous\n",
            "generation ---> generat\n",
            "generously ---> generous\n",
            "generate ---> generat\n"
          ]
        }
      ]
    },
    {
      "cell_type": "code",
      "source": [
        "\n",
        "# Stemming is used to reduce words to their root form, which can be helpful in various applications, including:\n",
        "\n",
        "# 1. Information Retrieval (Search Engines): Improves search accuracy by matching search queries with documents containing different forms of the same word.\n",
        "\n",
        "# 2. Text Analysis and NLP: Simplifies text data for tasks like sentiment analysis, topic modeling, and machine translation by grouping words with similar meanings.\n",
        "\n",
        "# 3. Text Classification: Enhances classification models by reducing feature dimensionality and focusing on the core meaning of words.\n"
      ],
      "metadata": {
        "id": "0pJHoIPYWEii"
      },
      "execution_count": null,
      "outputs": []
    }
  ]
}